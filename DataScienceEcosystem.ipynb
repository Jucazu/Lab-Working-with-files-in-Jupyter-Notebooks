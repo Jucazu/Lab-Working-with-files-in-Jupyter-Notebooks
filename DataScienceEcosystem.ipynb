{
 "cells": [
  {
   "cell_type": "markdown",
   "id": "d0b90bd3-c7e2-4c75-a8ec-28fb763f5a7f",
   "metadata": {},
   "source": [
    "# Data science tools and ecosystem"
   ]
  },
  {
   "cell_type": "markdown",
   "id": "5585405f-7b35-408c-9728-0f2c1b425ff8",
   "metadata": {},
   "source": [
    "## AUTOR\n",
    "Juan Camilo Zuñiga"
   ]
  },
  {
   "cell_type": "markdown",
   "id": "553ab456-bc83-4304-a094-12dc9bb9aced",
   "metadata": {},
   "source": [
    "In this notebook, Data Science Tools and Ecosystem are summarized."
   ]
  },
  {
   "cell_type": "markdown",
   "id": "36cbfa1e-1c09-4e0d-8622-e99a25ac34c7",
   "metadata": {},
   "source": [
    "**Objectives**\n",
    "- List popular languages for Data Science\n",
    "- List popular libraries for Data Science\n",
    "- Examples"
   ]
  },
  {
   "cell_type": "markdown",
   "id": "f5fd7615-e462-4ae9-83f4-5ab6c37c28fa",
   "metadata": {},
   "source": [
    "Some of the popular languages that Data Scientists use are:"
   ]
  },
  {
   "cell_type": "markdown",
   "id": "9bcf3365-3f5a-4d0a-89c7-a0bdd6b20bd1",
   "metadata": {},
   "source": [
    "1. R\n",
    "2. Python\n",
    "3. Scala\n",
    "4. Java\n",
    "5. Ruby"
   ]
  },
  {
   "cell_type": "markdown",
   "id": "56f63e4d-b6d9-4995-9de6-f99f52bc2595",
   "metadata": {},
   "source": [
    "Some of the commonly used libraries used by Data Scientists include:"
   ]
  },
  {
   "cell_type": "markdown",
   "id": "cb7dd3c5-7282-4f70-9494-d9dceb189b0d",
   "metadata": {},
   "source": [
    "1. Pandas\n",
    "2. NumPy\n",
    "3. Seaborn\n",
    "4. PyTorch\n",
    "5. Keras"
   ]
  },
  {
   "cell_type": "markdown",
   "id": "a0c82f5f-4295-4912-a1eb-121c1036a9b4",
   "metadata": {},
   "source": [
    "|Data Science Tools|\n",
    "|------|\n",
    "|R Studio|\n",
    "|Jupyter|\n",
    "|Visual Studio|\n"
   ]
  },
  {
   "cell_type": "markdown",
   "id": "9ce6c17f-794f-4d4c-a320-12f18ea4c908",
   "metadata": {},
   "source": [
    "### Below are a few examples of evaluating arithmetic expressions in Python"
   ]
  },
  {
   "cell_type": "code",
   "execution_count": 26,
   "id": "ce9dfc80-dee7-4f34-8e58-5d4c954b1de6",
   "metadata": {},
   "outputs": [
    {
     "data": {
      "text/plain": [
       "17"
      ]
     },
     "execution_count": 26,
     "metadata": {},
     "output_type": "execute_result"
    }
   ],
   "source": [
    "# This a simple arithmetic expression to mutiply then add integers\n",
    "(3*4)+5"
   ]
  },
  {
   "cell_type": "code",
   "execution_count": 28,
   "id": "aa7dbbb9-bf39-48ae-833e-96311b41ced4",
   "metadata": {},
   "outputs": [
    {
     "data": {
      "text/plain": [
       "3.3333333333333335"
      ]
     },
     "execution_count": 28,
     "metadata": {},
     "output_type": "execute_result"
    }
   ],
   "source": [
    "# This will convert 200 minutes to hours by diving by 60\n",
    "200/60"
   ]
  },
  {
   "cell_type": "code",
   "execution_count": null,
   "id": "bc458090-2df0-41b2-870c-0789b6b5143f",
   "metadata": {},
   "outputs": [],
   "source": []
  }
 ],
 "metadata": {
  "kernelspec": {
   "display_name": "Python 3 (ipykernel)",
   "language": "python",
   "name": "python3"
  },
  "language_info": {
   "codemirror_mode": {
    "name": "ipython",
    "version": 3
   },
   "file_extension": ".py",
   "mimetype": "text/x-python",
   "name": "python",
   "nbconvert_exporter": "python",
   "pygments_lexer": "ipython3",
   "version": "3.12.7"
  }
 },
 "nbformat": 4,
 "nbformat_minor": 5
}
